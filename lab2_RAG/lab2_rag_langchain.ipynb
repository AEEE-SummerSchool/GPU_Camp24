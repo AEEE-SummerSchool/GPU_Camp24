{
 "cells": [
  {
   "cell_type": "markdown",
   "metadata": {},
   "source": [
    "# RAG with LangChain"
   ]
  },
  {
   "cell_type": "markdown",
   "metadata": {},
   "source": [
    "## Step 1. Environment Setup\n",
    "\n",
    "This section outlines the steps taken to set up the Python environment for our project using Jupyter Notebook. We are utilizing the `pip` package manager to install a series of libraries that are essential for our project's functionality.\n",
    "\n",
    "### 1.1 Python Package Installation\n",
    "\n",
    "To ensure consistency and to take advantage of a faster download speed provided by the Aliyun mirror, we are using the following command to install the necessary packages:"
   ]
  },
  {
   "cell_type": "code",
   "execution_count": 1,
   "metadata": {},
   "outputs": [
    {
     "name": "stdout",
     "output_type": "stream",
     "text": [
      "Requirement already satisfied: langchain in c:\\users\\sidwang2\\appdata\\local\\programs\\python\\python311\\lib\\site-packages (0.2.12)\n",
      "Requirement already satisfied: langchain_core in c:\\users\\sidwang2\\appdata\\local\\programs\\python\\python311\\lib\\site-packages (0.2.27)\n",
      "Requirement already satisfied: langchain_community in c:\\users\\sidwang2\\appdata\\local\\programs\\python\\python311\\lib\\site-packages (0.2.10)\n",
      "Requirement already satisfied: langchain_chroma in c:\\users\\sidwang2\\appdata\\local\\programs\\python\\python311\\lib\\site-packages (0.1.2)\n",
      "Requirement already satisfied: pypdf in c:\\users\\sidwang2\\appdata\\local\\programs\\python\\python311\\lib\\site-packages (4.3.1)\n",
      "Requirement already satisfied: faiss-cpu in c:\\users\\sidwang2\\appdata\\local\\programs\\python\\python311\\lib\\site-packages (1.8.0.post1)\n",
      "Requirement already satisfied: PyYAML>=5.3 in c:\\users\\sidwang2\\appdata\\local\\programs\\python\\python311\\lib\\site-packages (from langchain) (6.0.1)\n",
      "Requirement already satisfied: SQLAlchemy<3,>=1.4 in c:\\users\\sidwang2\\appdata\\local\\programs\\python\\python311\\lib\\site-packages (from langchain) (2.0.31)\n",
      "Requirement already satisfied: aiohttp<4.0.0,>=3.8.3 in c:\\users\\sidwang2\\appdata\\local\\programs\\python\\python311\\lib\\site-packages (from langchain) (3.10.0)\n",
      "Requirement already satisfied: langchain-text-splitters<0.3.0,>=0.2.0 in c:\\users\\sidwang2\\appdata\\local\\programs\\python\\python311\\lib\\site-packages (from langchain) (0.2.2)\n",
      "Requirement already satisfied: langsmith<0.2.0,>=0.1.17 in c:\\users\\sidwang2\\appdata\\local\\programs\\python\\python311\\lib\\site-packages (from langchain) (0.1.96)\n",
      "Requirement already satisfied: numpy<2,>=1 in c:\\users\\sidwang2\\appdata\\local\\programs\\python\\python311\\lib\\site-packages (from langchain) (1.26.4)\n",
      "Requirement already satisfied: pydantic<3,>=1 in c:\\users\\sidwang2\\appdata\\local\\programs\\python\\python311\\lib\\site-packages (from langchain) (2.8.2)\n",
      "Requirement already satisfied: requests<3,>=2 in c:\\users\\sidwang2\\appdata\\local\\programs\\python\\python311\\lib\\site-packages (from langchain) (2.32.3)\n",
      "Requirement already satisfied: tenacity!=8.4.0,<9.0.0,>=8.1.0 in c:\\users\\sidwang2\\appdata\\local\\programs\\python\\python311\\lib\\site-packages (from langchain) (8.5.0)\n",
      "Requirement already satisfied: jsonpatch<2.0,>=1.33 in c:\\users\\sidwang2\\appdata\\local\\programs\\python\\python311\\lib\\site-packages (from langchain_core) (1.33)\n",
      "Requirement already satisfied: packaging<25,>=23.2 in c:\\users\\sidwang2\\appdata\\local\\programs\\python\\python311\\lib\\site-packages (from langchain_core) (24.1)\n",
      "Requirement already satisfied: typing-extensions>=4.7 in c:\\users\\sidwang2\\appdata\\roaming\\python\\python311\\site-packages (from langchain_core) (4.12.2)\n",
      "Requirement already satisfied: dataclasses-json<0.7,>=0.5.7 in c:\\users\\sidwang2\\appdata\\local\\programs\\python\\python311\\lib\\site-packages (from langchain_community) (0.6.7)\n",
      "Requirement already satisfied: chromadb<0.6.0,>=0.4.0 in c:\\users\\sidwang2\\appdata\\local\\programs\\python\\python311\\lib\\site-packages (from langchain_chroma) (0.5.5)\n",
      "Requirement already satisfied: fastapi<1,>=0.95.2 in c:\\users\\sidwang2\\appdata\\local\\programs\\python\\python311\\lib\\site-packages (from langchain_chroma) (0.112.0)\n",
      "Requirement already satisfied: aiohappyeyeballs>=2.3.0 in c:\\users\\sidwang2\\appdata\\local\\programs\\python\\python311\\lib\\site-packages (from aiohttp<4.0.0,>=3.8.3->langchain) (2.3.4)\n",
      "Requirement already satisfied: aiosignal>=1.1.2 in c:\\users\\sidwang2\\appdata\\local\\programs\\python\\python311\\lib\\site-packages (from aiohttp<4.0.0,>=3.8.3->langchain) (1.3.1)\n",
      "Requirement already satisfied: attrs>=17.3.0 in c:\\users\\sidwang2\\appdata\\local\\programs\\python\\python311\\lib\\site-packages (from aiohttp<4.0.0,>=3.8.3->langchain) (23.2.0)\n",
      "Requirement already satisfied: frozenlist>=1.1.1 in c:\\users\\sidwang2\\appdata\\local\\programs\\python\\python311\\lib\\site-packages (from aiohttp<4.0.0,>=3.8.3->langchain) (1.4.1)\n",
      "Requirement already satisfied: multidict<7.0,>=4.5 in c:\\users\\sidwang2\\appdata\\local\\programs\\python\\python311\\lib\\site-packages (from aiohttp<4.0.0,>=3.8.3->langchain) (6.0.5)\n",
      "Requirement already satisfied: yarl<2.0,>=1.0 in c:\\users\\sidwang2\\appdata\\local\\programs\\python\\python311\\lib\\site-packages (from aiohttp<4.0.0,>=3.8.3->langchain) (1.9.4)\n",
      "Requirement already satisfied: build>=1.0.3 in c:\\users\\sidwang2\\appdata\\local\\programs\\python\\python311\\lib\\site-packages (from chromadb<0.6.0,>=0.4.0->langchain_chroma) (1.2.1)\n",
      "Requirement already satisfied: chroma-hnswlib==0.7.6 in c:\\users\\sidwang2\\appdata\\local\\programs\\python\\python311\\lib\\site-packages (from chromadb<0.6.0,>=0.4.0->langchain_chroma) (0.7.6)\n",
      "Requirement already satisfied: uvicorn[standard]>=0.18.3 in c:\\users\\sidwang2\\appdata\\local\\programs\\python\\python311\\lib\\site-packages (from chromadb<0.6.0,>=0.4.0->langchain_chroma) (0.30.4)\n",
      "Requirement already satisfied: posthog>=2.4.0 in c:\\users\\sidwang2\\appdata\\local\\programs\\python\\python311\\lib\\site-packages (from chromadb<0.6.0,>=0.4.0->langchain_chroma) (3.5.0)\n",
      "Requirement already satisfied: onnxruntime>=1.14.1 in c:\\users\\sidwang2\\appdata\\local\\programs\\python\\python311\\lib\\site-packages (from chromadb<0.6.0,>=0.4.0->langchain_chroma) (1.18.1)\n",
      "Requirement already satisfied: opentelemetry-api>=1.2.0 in c:\\users\\sidwang2\\appdata\\local\\programs\\python\\python311\\lib\\site-packages (from chromadb<0.6.0,>=0.4.0->langchain_chroma) (1.26.0)\n",
      "Requirement already satisfied: opentelemetry-exporter-otlp-proto-grpc>=1.2.0 in c:\\users\\sidwang2\\appdata\\local\\programs\\python\\python311\\lib\\site-packages (from chromadb<0.6.0,>=0.4.0->langchain_chroma) (1.26.0)\n",
      "Requirement already satisfied: opentelemetry-instrumentation-fastapi>=0.41b0 in c:\\users\\sidwang2\\appdata\\local\\programs\\python\\python311\\lib\\site-packages (from chromadb<0.6.0,>=0.4.0->langchain_chroma) (0.47b0)\n",
      "Requirement already satisfied: opentelemetry-sdk>=1.2.0 in c:\\users\\sidwang2\\appdata\\local\\programs\\python\\python311\\lib\\site-packages (from chromadb<0.6.0,>=0.4.0->langchain_chroma) (1.26.0)\n",
      "Requirement already satisfied: tokenizers>=0.13.2 in c:\\users\\sidwang2\\appdata\\local\\programs\\python\\python311\\lib\\site-packages (from chromadb<0.6.0,>=0.4.0->langchain_chroma) (0.19.1)\n",
      "Requirement already satisfied: pypika>=0.48.9 in c:\\users\\sidwang2\\appdata\\local\\programs\\python\\python311\\lib\\site-packages (from chromadb<0.6.0,>=0.4.0->langchain_chroma) (0.48.9)\n",
      "Requirement already satisfied: tqdm>=4.65.0 in c:\\users\\sidwang2\\appdata\\local\\programs\\python\\python311\\lib\\site-packages (from chromadb<0.6.0,>=0.4.0->langchain_chroma) (4.66.4)\n",
      "Requirement already satisfied: overrides>=7.3.1 in c:\\users\\sidwang2\\appdata\\local\\programs\\python\\python311\\lib\\site-packages (from chromadb<0.6.0,>=0.4.0->langchain_chroma) (7.7.0)\n",
      "Requirement already satisfied: importlib-resources in c:\\users\\sidwang2\\appdata\\local\\programs\\python\\python311\\lib\\site-packages (from chromadb<0.6.0,>=0.4.0->langchain_chroma) (6.4.0)\n",
      "Requirement already satisfied: grpcio>=1.58.0 in c:\\users\\sidwang2\\appdata\\local\\programs\\python\\python311\\lib\\site-packages (from chromadb<0.6.0,>=0.4.0->langchain_chroma) (1.65.2)\n",
      "Requirement already satisfied: bcrypt>=4.0.1 in c:\\users\\sidwang2\\appdata\\local\\programs\\python\\python311\\lib\\site-packages (from chromadb<0.6.0,>=0.4.0->langchain_chroma) (4.2.0)\n",
      "Requirement already satisfied: typer>=0.9.0 in c:\\users\\sidwang2\\appdata\\local\\programs\\python\\python311\\lib\\site-packages (from chromadb<0.6.0,>=0.4.0->langchain_chroma) (0.12.3)\n",
      "Requirement already satisfied: kubernetes>=28.1.0 in c:\\users\\sidwang2\\appdata\\local\\programs\\python\\python311\\lib\\site-packages (from chromadb<0.6.0,>=0.4.0->langchain_chroma) (30.1.0)\n",
      "Requirement already satisfied: mmh3>=4.0.1 in c:\\users\\sidwang2\\appdata\\local\\programs\\python\\python311\\lib\\site-packages (from chromadb<0.6.0,>=0.4.0->langchain_chroma) (4.1.0)\n",
      "Requirement already satisfied: orjson>=3.9.12 in c:\\users\\sidwang2\\appdata\\local\\programs\\python\\python311\\lib\\site-packages (from chromadb<0.6.0,>=0.4.0->langchain_chroma) (3.10.6)\n",
      "Requirement already satisfied: httpx>=0.27.0 in c:\\users\\sidwang2\\appdata\\local\\programs\\python\\python311\\lib\\site-packages (from chromadb<0.6.0,>=0.4.0->langchain_chroma) (0.27.0)\n",
      "Requirement already satisfied: marshmallow<4.0.0,>=3.18.0 in c:\\users\\sidwang2\\appdata\\local\\programs\\python\\python311\\lib\\site-packages (from dataclasses-json<0.7,>=0.5.7->langchain_community) (3.21.3)\n",
      "Requirement already satisfied: typing-inspect<1,>=0.4.0 in c:\\users\\sidwang2\\appdata\\local\\programs\\python\\python311\\lib\\site-packages (from dataclasses-json<0.7,>=0.5.7->langchain_community) (0.9.0)\n",
      "Requirement already satisfied: starlette<0.38.0,>=0.37.2 in c:\\users\\sidwang2\\appdata\\local\\programs\\python\\python311\\lib\\site-packages (from fastapi<1,>=0.95.2->langchain_chroma) (0.37.2)\n",
      "Requirement already satisfied: jsonpointer>=1.9 in c:\\users\\sidwang2\\appdata\\local\\programs\\python\\python311\\lib\\site-packages (from jsonpatch<2.0,>=1.33->langchain_core) (3.0.0)\n",
      "Requirement already satisfied: annotated-types>=0.4.0 in c:\\users\\sidwang2\\appdata\\local\\programs\\python\\python311\\lib\\site-packages (from pydantic<3,>=1->langchain) (0.7.0)\n",
      "Requirement already satisfied: pydantic-core==2.20.1 in c:\\users\\sidwang2\\appdata\\local\\programs\\python\\python311\\lib\\site-packages (from pydantic<3,>=1->langchain) (2.20.1)\n",
      "Requirement already satisfied: charset-normalizer<4,>=2 in c:\\users\\sidwang2\\appdata\\local\\programs\\python\\python311\\lib\\site-packages (from requests<3,>=2->langchain) (3.3.2)\n",
      "Requirement already satisfied: idna<4,>=2.5 in c:\\users\\sidwang2\\appdata\\local\\programs\\python\\python311\\lib\\site-packages (from requests<3,>=2->langchain) (3.7)\n",
      "Requirement already satisfied: urllib3<3,>=1.21.1 in c:\\users\\sidwang2\\appdata\\local\\programs\\python\\python311\\lib\\site-packages (from requests<3,>=2->langchain) (2.2.2)\n",
      "Requirement already satisfied: certifi>=2017.4.17 in c:\\users\\sidwang2\\appdata\\local\\programs\\python\\python311\\lib\\site-packages (from requests<3,>=2->langchain) (2024.7.4)\n",
      "Requirement already satisfied: greenlet!=0.4.17 in c:\\users\\sidwang2\\appdata\\local\\programs\\python\\python311\\lib\\site-packages (from SQLAlchemy<3,>=1.4->langchain) (3.0.3)\n",
      "Requirement already satisfied: pyproject_hooks in c:\\users\\sidwang2\\appdata\\local\\programs\\python\\python311\\lib\\site-packages (from build>=1.0.3->chromadb<0.6.0,>=0.4.0->langchain_chroma) (1.1.0)\n",
      "Requirement already satisfied: colorama in c:\\users\\sidwang2\\appdata\\roaming\\python\\python311\\site-packages (from build>=1.0.3->chromadb<0.6.0,>=0.4.0->langchain_chroma) (0.4.6)\n",
      "Requirement already satisfied: anyio in c:\\users\\sidwang2\\appdata\\local\\programs\\python\\python311\\lib\\site-packages (from httpx>=0.27.0->chromadb<0.6.0,>=0.4.0->langchain_chroma) (4.4.0)\n",
      "Requirement already satisfied: httpcore==1.* in c:\\users\\sidwang2\\appdata\\local\\programs\\python\\python311\\lib\\site-packages (from httpx>=0.27.0->chromadb<0.6.0,>=0.4.0->langchain_chroma) (1.0.5)\n",
      "Requirement already satisfied: sniffio in c:\\users\\sidwang2\\appdata\\local\\programs\\python\\python311\\lib\\site-packages (from httpx>=0.27.0->chromadb<0.6.0,>=0.4.0->langchain_chroma) (1.3.1)\n",
      "Requirement already satisfied: h11<0.15,>=0.13 in c:\\users\\sidwang2\\appdata\\local\\programs\\python\\python311\\lib\\site-packages (from httpcore==1.*->httpx>=0.27.0->chromadb<0.6.0,>=0.4.0->langchain_chroma) (0.14.0)\n",
      "Requirement already satisfied: six>=1.9.0 in c:\\users\\sidwang2\\appdata\\local\\programs\\python\\python311\\lib\\site-packages (from kubernetes>=28.1.0->chromadb<0.6.0,>=0.4.0->langchain_chroma) (1.16.0)\n",
      "Requirement already satisfied: python-dateutil>=2.5.3 in c:\\users\\sidwang2\\appdata\\local\\programs\\python\\python311\\lib\\site-packages (from kubernetes>=28.1.0->chromadb<0.6.0,>=0.4.0->langchain_chroma) (2.9.0.post0)\n",
      "Requirement already satisfied: google-auth>=1.0.1 in c:\\users\\sidwang2\\appdata\\local\\programs\\python\\python311\\lib\\site-packages (from kubernetes>=28.1.0->chromadb<0.6.0,>=0.4.0->langchain_chroma) (2.32.0)\n",
      "Requirement already satisfied: websocket-client!=0.40.0,!=0.41.*,!=0.42.*,>=0.32.0 in c:\\users\\sidwang2\\appdata\\local\\programs\\python\\python311\\lib\\site-packages (from kubernetes>=28.1.0->chromadb<0.6.0,>=0.4.0->langchain_chroma) (1.8.0)\n",
      "Requirement already satisfied: requests-oauthlib in c:\\users\\sidwang2\\appdata\\local\\programs\\python\\python311\\lib\\site-packages (from kubernetes>=28.1.0->chromadb<0.6.0,>=0.4.0->langchain_chroma) (2.0.0)\n",
      "Requirement already satisfied: oauthlib>=3.2.2 in c:\\users\\sidwang2\\appdata\\local\\programs\\python\\python311\\lib\\site-packages (from kubernetes>=28.1.0->chromadb<0.6.0,>=0.4.0->langchain_chroma) (3.2.2)\n",
      "Requirement already satisfied: coloredlogs in c:\\users\\sidwang2\\appdata\\local\\programs\\python\\python311\\lib\\site-packages (from onnxruntime>=1.14.1->chromadb<0.6.0,>=0.4.0->langchain_chroma) (15.0.1)\n",
      "Requirement already satisfied: flatbuffers in c:\\users\\sidwang2\\appdata\\local\\programs\\python\\python311\\lib\\site-packages (from onnxruntime>=1.14.1->chromadb<0.6.0,>=0.4.0->langchain_chroma) (24.3.25)\n",
      "Requirement already satisfied: protobuf in c:\\users\\sidwang2\\appdata\\local\\programs\\python\\python311\\lib\\site-packages (from onnxruntime>=1.14.1->chromadb<0.6.0,>=0.4.0->langchain_chroma) (4.25.4)\n",
      "Requirement already satisfied: sympy in c:\\users\\sidwang2\\appdata\\local\\programs\\python\\python311\\lib\\site-packages (from onnxruntime>=1.14.1->chromadb<0.6.0,>=0.4.0->langchain_chroma) (1.13.1)\n",
      "Requirement already satisfied: deprecated>=1.2.6 in c:\\users\\sidwang2\\appdata\\local\\programs\\python\\python311\\lib\\site-packages (from opentelemetry-api>=1.2.0->chromadb<0.6.0,>=0.4.0->langchain_chroma) (1.2.14)\n",
      "Requirement already satisfied: importlib-metadata<=8.0.0,>=6.0 in c:\\users\\sidwang2\\appdata\\local\\programs\\python\\python311\\lib\\site-packages (from opentelemetry-api>=1.2.0->chromadb<0.6.0,>=0.4.0->langchain_chroma) (8.0.0)\n",
      "Requirement already satisfied: googleapis-common-protos~=1.52 in c:\\users\\sidwang2\\appdata\\local\\programs\\python\\python311\\lib\\site-packages (from opentelemetry-exporter-otlp-proto-grpc>=1.2.0->chromadb<0.6.0,>=0.4.0->langchain_chroma) (1.63.2)\n",
      "Requirement already satisfied: opentelemetry-exporter-otlp-proto-common==1.26.0 in c:\\users\\sidwang2\\appdata\\local\\programs\\python\\python311\\lib\\site-packages (from opentelemetry-exporter-otlp-proto-grpc>=1.2.0->chromadb<0.6.0,>=0.4.0->langchain_chroma) (1.26.0)\n",
      "Requirement already satisfied: opentelemetry-proto==1.26.0 in c:\\users\\sidwang2\\appdata\\local\\programs\\python\\python311\\lib\\site-packages (from opentelemetry-exporter-otlp-proto-grpc>=1.2.0->chromadb<0.6.0,>=0.4.0->langchain_chroma) (1.26.0)\n",
      "Requirement already satisfied: opentelemetry-instrumentation-asgi==0.47b0 in c:\\users\\sidwang2\\appdata\\local\\programs\\python\\python311\\lib\\site-packages (from opentelemetry-instrumentation-fastapi>=0.41b0->chromadb<0.6.0,>=0.4.0->langchain_chroma) (0.47b0)\n",
      "Requirement already satisfied: opentelemetry-instrumentation==0.47b0 in c:\\users\\sidwang2\\appdata\\local\\programs\\python\\python311\\lib\\site-packages (from opentelemetry-instrumentation-fastapi>=0.41b0->chromadb<0.6.0,>=0.4.0->langchain_chroma) (0.47b0)\n",
      "Requirement already satisfied: opentelemetry-semantic-conventions==0.47b0 in c:\\users\\sidwang2\\appdata\\local\\programs\\python\\python311\\lib\\site-packages (from opentelemetry-instrumentation-fastapi>=0.41b0->chromadb<0.6.0,>=0.4.0->langchain_chroma) (0.47b0)\n",
      "Requirement already satisfied: opentelemetry-util-http==0.47b0 in c:\\users\\sidwang2\\appdata\\local\\programs\\python\\python311\\lib\\site-packages (from opentelemetry-instrumentation-fastapi>=0.41b0->chromadb<0.6.0,>=0.4.0->langchain_chroma) (0.47b0)\n",
      "Requirement already satisfied: setuptools>=16.0 in c:\\users\\sidwang2\\appdata\\local\\programs\\python\\python311\\lib\\site-packages (from opentelemetry-instrumentation==0.47b0->opentelemetry-instrumentation-fastapi>=0.41b0->chromadb<0.6.0,>=0.4.0->langchain_chroma) (65.5.0)\n",
      "Requirement already satisfied: wrapt<2.0.0,>=1.0.0 in c:\\users\\sidwang2\\appdata\\local\\programs\\python\\python311\\lib\\site-packages (from opentelemetry-instrumentation==0.47b0->opentelemetry-instrumentation-fastapi>=0.41b0->chromadb<0.6.0,>=0.4.0->langchain_chroma) (1.16.0)\n",
      "Requirement already satisfied: asgiref~=3.0 in c:\\users\\sidwang2\\appdata\\local\\programs\\python\\python311\\lib\\site-packages (from opentelemetry-instrumentation-asgi==0.47b0->opentelemetry-instrumentation-fastapi>=0.41b0->chromadb<0.6.0,>=0.4.0->langchain_chroma) (3.8.1)\n",
      "Requirement already satisfied: monotonic>=1.5 in c:\\users\\sidwang2\\appdata\\local\\programs\\python\\python311\\lib\\site-packages (from posthog>=2.4.0->chromadb<0.6.0,>=0.4.0->langchain_chroma) (1.6)\n",
      "Requirement already satisfied: backoff>=1.10.0 in c:\\users\\sidwang2\\appdata\\local\\programs\\python\\python311\\lib\\site-packages (from posthog>=2.4.0->chromadb<0.6.0,>=0.4.0->langchain_chroma) (2.2.1)\n",
      "Requirement already satisfied: huggingface-hub<1.0,>=0.16.4 in c:\\users\\sidwang2\\appdata\\local\\programs\\python\\python311\\lib\\site-packages (from tokenizers>=0.13.2->chromadb<0.6.0,>=0.4.0->langchain_chroma) (0.24.5)\n",
      "Requirement already satisfied: click>=8.0.0 in c:\\users\\sidwang2\\appdata\\local\\programs\\python\\python311\\lib\\site-packages (from typer>=0.9.0->chromadb<0.6.0,>=0.4.0->langchain_chroma) (8.1.7)\n",
      "Requirement already satisfied: shellingham>=1.3.0 in c:\\users\\sidwang2\\appdata\\local\\programs\\python\\python311\\lib\\site-packages (from typer>=0.9.0->chromadb<0.6.0,>=0.4.0->langchain_chroma) (1.5.4)\n",
      "Requirement already satisfied: rich>=10.11.0 in c:\\users\\sidwang2\\appdata\\local\\programs\\python\\python311\\lib\\site-packages (from typer>=0.9.0->chromadb<0.6.0,>=0.4.0->langchain_chroma) (13.7.1)\n",
      "Requirement already satisfied: mypy-extensions>=0.3.0 in c:\\users\\sidwang2\\appdata\\local\\programs\\python\\python311\\lib\\site-packages (from typing-inspect<1,>=0.4.0->dataclasses-json<0.7,>=0.5.7->langchain_community) (1.0.0)\n",
      "Requirement already satisfied: httptools>=0.5.0 in c:\\users\\sidwang2\\appdata\\local\\programs\\python\\python311\\lib\\site-packages (from uvicorn[standard]>=0.18.3->chromadb<0.6.0,>=0.4.0->langchain_chroma) (0.6.1)\n",
      "Requirement already satisfied: python-dotenv>=0.13 in c:\\users\\sidwang2\\appdata\\local\\programs\\python\\python311\\lib\\site-packages (from uvicorn[standard]>=0.18.3->chromadb<0.6.0,>=0.4.0->langchain_chroma) (1.0.1)\n",
      "Requirement already satisfied: watchfiles>=0.13 in c:\\users\\sidwang2\\appdata\\local\\programs\\python\\python311\\lib\\site-packages (from uvicorn[standard]>=0.18.3->chromadb<0.6.0,>=0.4.0->langchain_chroma) (0.22.0)\n",
      "Requirement already satisfied: websockets>=10.4 in c:\\users\\sidwang2\\appdata\\local\\programs\\python\\python311\\lib\\site-packages (from uvicorn[standard]>=0.18.3->chromadb<0.6.0,>=0.4.0->langchain_chroma) (12.0)\n",
      "Requirement already satisfied: cachetools<6.0,>=2.0.0 in c:\\users\\sidwang2\\appdata\\local\\programs\\python\\python311\\lib\\site-packages (from google-auth>=1.0.1->kubernetes>=28.1.0->chromadb<0.6.0,>=0.4.0->langchain_chroma) (5.4.0)\n",
      "Requirement already satisfied: pyasn1-modules>=0.2.1 in c:\\users\\sidwang2\\appdata\\local\\programs\\python\\python311\\lib\\site-packages (from google-auth>=1.0.1->kubernetes>=28.1.0->chromadb<0.6.0,>=0.4.0->langchain_chroma) (0.4.0)\n",
      "Requirement already satisfied: rsa<5,>=3.1.4 in c:\\users\\sidwang2\\appdata\\local\\programs\\python\\python311\\lib\\site-packages (from google-auth>=1.0.1->kubernetes>=28.1.0->chromadb<0.6.0,>=0.4.0->langchain_chroma) (4.9)\n",
      "Requirement already satisfied: filelock in c:\\users\\sidwang2\\appdata\\local\\programs\\python\\python311\\lib\\site-packages (from huggingface-hub<1.0,>=0.16.4->tokenizers>=0.13.2->chromadb<0.6.0,>=0.4.0->langchain_chroma) (3.15.4)\n",
      "Requirement already satisfied: fsspec>=2023.5.0 in c:\\users\\sidwang2\\appdata\\local\\programs\\python\\python311\\lib\\site-packages (from huggingface-hub<1.0,>=0.16.4->tokenizers>=0.13.2->chromadb<0.6.0,>=0.4.0->langchain_chroma) (2024.6.1)\n",
      "Requirement already satisfied: zipp>=0.5 in c:\\users\\sidwang2\\appdata\\local\\programs\\python\\python311\\lib\\site-packages (from importlib-metadata<=8.0.0,>=6.0->opentelemetry-api>=1.2.0->chromadb<0.6.0,>=0.4.0->langchain_chroma) (3.19.2)\n",
      "Requirement already satisfied: markdown-it-py>=2.2.0 in c:\\users\\sidwang2\\appdata\\local\\programs\\python\\python311\\lib\\site-packages (from rich>=10.11.0->typer>=0.9.0->chromadb<0.6.0,>=0.4.0->langchain_chroma) (3.0.0)\n",
      "Requirement already satisfied: pygments<3.0.0,>=2.13.0 in c:\\users\\sidwang2\\appdata\\roaming\\python\\python311\\site-packages (from rich>=10.11.0->typer>=0.9.0->chromadb<0.6.0,>=0.4.0->langchain_chroma) (2.18.0)\n",
      "Requirement already satisfied: humanfriendly>=9.1 in c:\\users\\sidwang2\\appdata\\local\\programs\\python\\python311\\lib\\site-packages (from coloredlogs->onnxruntime>=1.14.1->chromadb<0.6.0,>=0.4.0->langchain_chroma) (10.0)\n",
      "Requirement already satisfied: mpmath<1.4,>=1.1.0 in c:\\users\\sidwang2\\appdata\\local\\programs\\python\\python311\\lib\\site-packages (from sympy->onnxruntime>=1.14.1->chromadb<0.6.0,>=0.4.0->langchain_chroma) (1.3.0)\n",
      "Requirement already satisfied: pyreadline3 in c:\\users\\sidwang2\\appdata\\local\\programs\\python\\python311\\lib\\site-packages (from humanfriendly>=9.1->coloredlogs->onnxruntime>=1.14.1->chromadb<0.6.0,>=0.4.0->langchain_chroma) (3.4.1)\n",
      "Requirement already satisfied: mdurl~=0.1 in c:\\users\\sidwang2\\appdata\\local\\programs\\python\\python311\\lib\\site-packages (from markdown-it-py>=2.2.0->rich>=10.11.0->typer>=0.9.0->chromadb<0.6.0,>=0.4.0->langchain_chroma) (0.1.2)\n",
      "Requirement already satisfied: pyasn1<0.7.0,>=0.4.6 in c:\\users\\sidwang2\\appdata\\local\\programs\\python\\python311\\lib\\site-packages (from pyasn1-modules>=0.2.1->google-auth>=1.0.1->kubernetes>=28.1.0->chromadb<0.6.0,>=0.4.0->langchain_chroma) (0.6.0)\n"
     ]
    },
    {
     "name": "stderr",
     "output_type": "stream",
     "text": [
      "\n",
      "[notice] A new release of pip is available: 23.1.2 -> 24.2\n",
      "[notice] To update, run: python.exe -m pip install --upgrade pip\n"
     ]
    }
   ],
   "source": [
    "!pip install langchain langchain_core langchain_community langchain_chroma pypdf faiss-cpu"
   ]
  },
  {
   "cell_type": "markdown",
   "metadata": {},
   "source": [
    "## Step 2. Indexing your file"
   ]
  },
  {
   "cell_type": "markdown",
   "metadata": {},
   "source": [
    "### 2.1 Document Loading and Text Splitting for Indexing\n",
    "\n",
    "In this section, we outline the process of loading a PDF document and splitting its text content into manageable chunks for indexing in a local knowledge base.\n",
    "\n",
    "#### 2.1.1 Load the PDF Document\n",
    "\n",
    "We begin by creating an instance of `PyPDFLoader` with the path to the PDF document \"vitis_hls.pdf\". This loader will be used to read the document's content. You can replace the document name or path as needed to index different documents in your local knowledge base.\n",
    "\n",
    "```python\n",
    "loader = PyPDFLoader(\"rocm-docs.pdf\")  # You can change documentation here to index your local knowledge base\n",
    "```\n",
    "\n",
    "#### 2.1.2 Load Document Pages\n",
    "Next, we call the load method on the loader instance to retrieve the pages of the document. This step is crucial for accessing the text content that will be processed.\n",
    "\n",
    "```python\n",
    "pages = loader.load()\n",
    "```\n",
    "#### 2.1.3 Initialize Text Splitter\n",
    "We then initialize a RecursiveCharacterTextSplitter, which is designed to split the text based on certain separators and chunk sizes. The splitter is configured with line breaks and periods as separators, a chunk size of 1024 characters, and an overlap of 100 characters to ensure continuity between chunks.\n",
    "\n",
    "```python\n",
    "text_splitter = RecursiveCharacterTextSplitter(\n",
    "    separators=[\"\\n\", \"\\n\\n\", \".\"], chunk_size=1024, chunk_overlap=100\n",
    ")\n",
    "```\n",
    "#### 2.1.4 Split the Document into Chunks\n",
    "Finally, we use the text splitter to divide the document's pages into smaller text chunks. These chunks are suitable for embedding and indexing, facilitating efficient retrieval operations.\n",
    "\n",
    "```python\n",
    "docs = text_splitter.split_documents(pages)\n",
    "```"
   ]
  },
  {
   "cell_type": "code",
   "execution_count": 2,
   "metadata": {},
   "outputs": [],
   "source": [
    "from langchain_text_splitters import RecursiveCharacterTextSplitter\n",
    "from langchain.document_loaders import PyPDFLoader\n",
    "from langchain.vectorstores import FAISS\n",
    "from langchain.embeddings.ollama import OllamaEmbeddings\n",
    "from langchain.llms.ollama import Ollama\n",
    "\n",
    "loader = PyPDFLoader(\"rocm-docs.pdf\") # You can change documentation here to index your local knowledge base\n",
    "pages = loader.load()\n",
    "text_splitter = RecursiveCharacterTextSplitter(\n",
    "    separators=[\"\\n\", \"\\n\\n\", \".\"], chunk_size=1024, chunk_overlap=100\n",
    ")\n",
    "docs = text_splitter.split_documents(pages)"
   ]
  },
  {
   "cell_type": "markdown",
   "metadata": {},
   "source": [
    "\n",
    "### 2.2 Document Embedding and Similarity Search with Ollama Model\n",
    "\n",
    "In this section, we demonstrate how to perform document embedding and similarity search using the `Ollama` model. `Ollama` is a library that provides text embedding and large language model (LLM) services.\n",
    "\n",
    "#### 2.2.1 Initialize Embedding and Language Models\n",
    "\n",
    "First, we initialize an `OllamaEmbeddings` model for document embedding, setting the model to `nomic-embed-text`. Then, we create an `Ollama` instance connected to the remote language model service `llama3:8b`, with a context length of 8192.\n",
    "\n",
    "```python\n",
    "embedding_model = OllamaEmbeddings(model=\"nomic-embed-text\")\n",
    "llm = Ollama(base_url=\"http://241.4.117.29:11434\", model=\"llama3:8b\", num_ctx=8192)\n",
    "```\n",
    "#### 2.2.2 Create FAISS Index\n",
    "Next, we construct a FAISS index using the document collection and the embedding model created above. FAISS is a library for efficient similarity search and dense vector clustering.\n",
    "\n",
    "```python\n",
    "faiss_index = FAISS.from_documents(docs, embedding_model)\n",
    "```\n",
    "\n",
    "#### 2.2.3 Perform Similarity Search\n",
    "We then use the FAISS index to search for the most relevant document fragments to the query \"How many burst read-writes can Vitis handle at most?\" Here, we retrieve the top two most relevant results.\n",
    "\n",
    "```python\n",
    "relevant_chunk = faiss_index.similarity_search(\"How to install ROCm?\", k=2)\n",
    "```\n",
    "\n",
    "#### 2.2.4 Print Search Results\n",
    "Finally, we print the retrieved relevant information. For each retrieved document fragment, we print its page number and content.\n",
    "\n",
    "```python\n",
    "print(\"Here are the retrieved relevant pieces of information:\")\n",
    "for doc in relevant_chunk:\n",
    "    print(\"#\" * 20)\n",
    "    print(f\"Page {doc.metadata['page']}: {doc.page_content}\")\n",
    "```\n"
   ]
  },
  {
   "cell_type": "code",
   "execution_count": 3,
   "metadata": {},
   "outputs": [
    {
     "name": "stdout",
     "output_type": "stream",
     "text": [
      "there are relevant documentation chunks\n",
      "####################\n",
      "25: Install onnxruntime-rocm for ROCm by following these steps.\n",
      "Prerequisites\n",
      "•MIGraphX is installed\n",
      "•Latest PyTorch ROCm release is installed\n",
      "Check Install PyTorch for ROCm for latest PIP install instructions and availability.\n",
      "Important! These instructions are validated for an Ubuntu 22.04 environment. Refer to the OS support\n",
      "matrix for more information.\n",
      "To install MIGraphX for ONNX Runtime ,\n",
      "1.Verify that the install works correctly by performing a simple inference with MIGraphX.\n",
      "migraphx -driver perf --test\n",
      "2.Ensure that the half package is installed.\n",
      "$sudo apt install half\n",
      "3.Install onnxruntime-rocm via Python PIP.\n",
      "22 Chapter 2. How to guides\n",
      "####################\n",
      "21: Use ROCm™ on Radeon™ GPUs Documentation\n",
      "Pre-requisites\n",
      "•Radeon software for Linux (with ROCm) must be installed.\n",
      "•MIGraphX must be installed for TensorFlow to build the correct mig execution provider.\n",
      "Select installation method\n",
      "Option A: TensorFlow via PIP installation method\n",
      "AMD recommends the PIP install method to create a TensorFlow environment when working with ROCm for machine\n",
      "learning development.\n",
      "Note The latest version of Python module numpy v2.0 is incompatible with the TensorFlow wheels for this\n",
      "version. Downgrade to an older version is required. Example: pip3 install numpy==1.26.4\n",
      "To install TensorFlow,\n",
      "Download and install the TensorFlow wheel.\n",
      "pip3 uninstall tensorflow -rocm numpy\n",
      "pip3 install https ://repo.radeon.com/rocm/manylinux/rocm-rel-6.1.3/tensorflow_rocm-2.\n",
      ",→15.1-cp310-cp310-manylinux_2_28_x86_64.whl numpy==1.26.4\n",
      "Next, verify your TensorFlow installation .\n",
      "Option B: Docker installation method\n",
      "To install ROCm on bare metal, follow ROCm installation options .\n"
     ]
    }
   ],
   "source": [
    "embedding_model = OllamaEmbeddings(base_url=\"http://241.4.117.29:11434\", model=\"nomic-embed-text\")\n",
    "llm = Ollama(base_url=\"http://241.4.117.29:11434\", model=\"llama3:8b\", num_ctx=8192)\n",
    "\n",
    "faiss_index = FAISS.from_documents(docs, embedding_model)\n",
    "relevant_chunk = faiss_index.similarity_search(\"How to install ROCm?\", k=2)\n",
    "\n",
    "print(\"there are relevant documentation chunks\")\n",
    "for doc in relevant_chunk:\n",
    "    print(\"#\"*20)\n",
    "    print(str(doc.metadata[\"page\"]) + \":\", doc.page_content)"
   ]
  },
  {
   "cell_type": "markdown",
   "metadata": {},
   "source": [
    "## Step 3. Build RAG Chain"
   ]
  },
  {
   "cell_type": "markdown",
   "metadata": {},
   "source": [
    "### 3.1 Define System Prompte\n",
    "here is a guidance for how to write a good prompt: https://www.coursera.org/articles/how-to-write-chatgpt-prompts\n",
    "you can write prompt in following steps:\n",
    "  1. what roles will LLMs plays like\n",
    "  2. relevant information\n",
    "  3. what you expect LLMs do for you\n",
    "  4. more instruction, i.e: generate answer in JSON format;  answer in CHINESE; "
   ]
  },
  {
   "cell_type": "code",
   "execution_count": 6,
   "metadata": {},
   "outputs": [
    {
     "name": "stdout",
     "output_type": "stream",
     "text": [
      "You are an AMD Vitis product expert. Please answer and provide guidance based on the user's question according to the product manual.\n",
      "---------------------\n",
      "Vitis™ AI software is a comprehensive AI inference development solution suitable for AMD devices, development boards, Alveo™ data center accelerator cards, selected PCs, laptops, and workstations.\n",
      "---------------------\n",
      "Please answer based on the content of the product manual.\n",
      "When answering, provide the page number(s) in the product manual where the relevant information can be found.\n",
      "If the question goes beyond the scope of the manual, clearly inform the user that the question is out of the manual's scope.\n",
      "The answer should be accurate and concise.\n",
      "---------------------\n",
      "User's question: What is Vitis?\n",
      "---------------------\n",
      "Answer: \n"
     ]
    }
   ],
   "source": [
    "from langchain_core.prompts import PromptTemplate\n",
    "\n",
    "template = (\n",
    "    \"You are an AMD Vitis product expert. Please answer and provide guidance based on the user's question according to the product manual.\\n\"\n",
    "    \"---------------------\\n\"\n",
    "    \"{context_str}\\n\"\n",
    "    \"---------------------\\n\"\n",
    "    \"Please answer based on the content of the product manual.\\n\"\n",
    "    \"When answering, provide the page number(s) in the product manual where the relevant information can be found.\\n\"\n",
    "    \"If the question goes beyond the scope of the manual, clearly inform the user that the question is out of the manual's scope.\\n\"\n",
    "    \"The answer should be accurate and concise.\\n\"\n",
    "    \"---------------------\\n\"\n",
    "    \"User's question: {query_str}\\n\"\n",
    "    \"---------------------\\n\"\n",
    "    \"Answer: \"\n",
    ")\n",
    "\n",
    "prompt_template = PromptTemplate.from_template(\n",
    "    template,\n",
    ")\n",
    "\n",
    "print(prompt_template.format(\n",
    "    context_str=\"Vitis™ AI software is a comprehensive AI inference development solution suitable for AMD devices, development boards, Alveo™ data center accelerator cards, selected PCs, laptops, and workstations.\",\n",
    "    query_str=\"What is Vitis?\"\n",
    "))"
   ]
  },
  {
   "cell_type": "code",
   "execution_count": 8,
   "metadata": {},
   "outputs": [],
   "source": [
    "from langchain_core.output_parsers import StrOutputParser\n",
    "from langchain_core.runnables import RunnablePassthrough\n",
    "\n",
    "def format_docs(docs):\n",
    "    return \"\\n\\n\".join(doc.page_content for doc in docs)\n",
    "\n",
    "retrieval = faiss_index.as_retriever()\n",
    "\n",
    "rag_chain = (\n",
    "    {\"context_str\": retrieval | format_docs, \"query_str\": RunnablePassthrough()}\n",
    "    | prompt_template | llm | StrOutputParser()\n",
    ")"
   ]
  },
  {
   "cell_type": "markdown",
   "metadata": {},
   "source": [
    "## Step 4. Test your RAG system"
   ]
  },
  {
   "cell_type": "code",
   "execution_count": 9,
   "metadata": {},
   "outputs": [
    {
     "name": "stdout",
     "output_type": "stream",
     "text": [
      "According to the product manual, you can install ROCm by following Option A or Option B.\n",
      "\n",
      "**Option A (PIP installation method)**: You need to have Radeon software for Linux installed with ROCm, and MIGraphX must be installed. Then, follow these steps:\n",
      "\n",
      "1. Uninstall TensorFlow-rocm if it's already installed.\n",
      "2. Install the TensorFlow-rocm wheel using pip3: `pip3 install https://repo.radeon.com/rocm/manylinux/rocm-rel-6.1.3/tensorflow_rocm-2.15.1-cp310-cp310-manylinux_2_28_x86_64.whl numpy==1.26.4`\n",
      "\n",
      "(Refer to page 22 of the manual for more information)\n",
      "\n",
      "**Option B (Docker installation method)**: You can install ROCm on bare metal by following the ROCm installation options, which are not covered in this specific manual.\n",
      "\n",
      "Please note that these instructions are only validated for an Ubuntu 22.04 environment, and you should refer to the OS support matrix for more information.\n",
      "\n",
      "**Important**: Make sure to follow the prerequisites before installing ROCm.\n"
     ]
    }
   ],
   "source": [
    "user_question = \"How to install ROCm?\"\n",
    "output = rag_chain.invoke(user_question)\n",
    "print(output)"
   ]
  },
  {
   "cell_type": "code",
   "execution_count": 12,
   "metadata": {},
   "outputs": [
    {
     "name": "stdout",
     "output_type": "stream",
     "text": [
      "According to the product manual (page 1), \"ROCm is an open-source software platform for heterogeneous computing, designed to accelerate machine learning, data analytics, and cloud computing applications on Radeon GPUs.\"\n"
     ]
    }
   ],
   "source": [
    "user_question = \"What is ROCm?\"\n",
    "output = rag_chain.invoke(user_question)\n",
    "print(output)"
   ]
  },
  {
   "cell_type": "code",
   "execution_count": 10,
   "metadata": {},
   "outputs": [
    {
     "name": "stdout",
     "output_type": "stream",
     "text": [
      "According to the product manual (page 5.2.1), ROCm-smi support is not available due to WSL architectural limitations for native Linux User Kernel Interface (UKI). Additionally, ROCm-profiler and Debugger are also not currently supported.\n",
      "\n",
      "However, it's possible to run PyTorch in virtual environments with some manual updates (as described on page 5.2.2).\n",
      "\n",
      "So, while you can't install ROCm directly in WSL, you can still use ROCm with PyTorch by following the instructions provided.\n"
     ]
    }
   ],
   "source": [
    "user_question = \"Can I install ROCm in WSL?\"\n",
    "output = rag_chain.invoke(user_question)\n",
    "print(output)"
   ]
  },
  {
   "cell_type": "code",
   "execution_count": 13,
   "metadata": {},
   "outputs": [
    {
     "name": "stdout",
     "output_type": "stream",
     "text": [
      "According to the product manual (page 2.1.4), TensorFlow is an open-source library for solving machine-learning, deep-learning, and artificial-intelligence problems that can be used with ROCm. Specifically, it says \"TensorFlow is one of the most popular and in-demand frameworks and is very active in open source contribution and development.\"\n",
      "\n",
      "Additionally, on page 2.1.4, it provides information on how to install TensorFlow for ROCm using either the PIP installation method or the Docker installation method.\n",
      "\n",
      "So, to answer your question: Yes, ROCm supports the TensorFlow framework.\n"
     ]
    }
   ],
   "source": [
    "user_question = \"Does ROCm support Tensorflow framework?\"\n",
    "output = rag_chain.invoke(user_question)\n",
    "print(output)"
   ]
  }
 ],
 "metadata": {
  "kernelspec": {
   "display_name": "Python 3 (ipykernel)",
   "language": "python",
   "name": "python3"
  },
  "language_info": {
   "codemirror_mode": {
    "name": "ipython",
    "version": 3
   },
   "file_extension": ".py",
   "mimetype": "text/x-python",
   "name": "python",
   "nbconvert_exporter": "python",
   "pygments_lexer": "ipython3",
   "version": "3.11.4"
  }
 },
 "nbformat": 4,
 "nbformat_minor": 4
}
